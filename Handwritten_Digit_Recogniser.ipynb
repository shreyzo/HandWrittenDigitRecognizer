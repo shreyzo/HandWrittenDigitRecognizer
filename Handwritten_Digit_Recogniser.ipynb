{
  "nbformat": 4,
  "nbformat_minor": 0,
  "metadata": {
    "colab": {
      "name": "Handwritten Digit Recogniser",
      "provenance": [],
      "authorship_tag": "ABX9TyOBp5pDRnOELl1QAzMtlK1s",
      "include_colab_link": true
    },
    "kernelspec": {
      "name": "python3",
      "display_name": "Python 3"
    }
  },
  "cells": [
    {
      "cell_type": "markdown",
      "metadata": {
        "id": "view-in-github",
        "colab_type": "text"
      },
      "source": [
        "<a href=\"https://colab.research.google.com/github/shreyzo/HandWrittenDigitRecognizer/blob/master/Handwritten_Digit_Recogniser.ipynb\" target=\"_parent\"><img src=\"https://colab.research.google.com/assets/colab-badge.svg\" alt=\"Open In Colab\"/></a>"
      ]
    },
    {
      "cell_type": "code",
      "metadata": {
        "id": "2Bzu5a2HfF6m",
        "colab_type": "code",
        "colab": {
          "base_uri": "https://localhost:8080/",
          "height": 34
        },
        "outputId": "dca64c5f-9f15-4714-9171-4d1e26c37c5d"
      },
      "source": [
        "from keras.datasets import mnist\n",
        "import numpy as np\n",
        "import h5py\n",
        "import matplotlib.pyplot as plt\n",
        "import math\n",
        "import numpy as np\n",
        "import tensorflow as tf\n",
        "from tensorflow.python.framework import ops\n",
        "\n",
        "\n",
        "plt.rcParams['figure.figsize'] = (5.0, 4.0) # set default size of plots\n",
        "plt.rcParams['image.interpolation'] = 'nearest'\n",
        "plt.rcParams['image.cmap'] = 'gray'"
      ],
      "execution_count": 1,
      "outputs": [
        {
          "output_type": "stream",
          "text": [
            "Using TensorFlow backend.\n"
          ],
          "name": "stderr"
        }
      ]
    },
    {
      "cell_type": "code",
      "metadata": {
        "id": "mJRfnmIMiZrk",
        "colab_type": "code",
        "colab": {}
      },
      "source": [
        "def loaddataset():\n",
        "    (trainX, trainy),  (testX, testy) = mnist.load_data()\n",
        "    trainX = trainX.reshape((trainX.shape[0], 28, 28, 1))\n",
        "    testX = testX.reshape((testX.shape[0], 28, 28, 1))\n",
        "    # one hot encode target values\n",
        "    #trainY = to_categorical(trainY)\n",
        "    #testY = to_categorical(testY)\n",
        "    return trainX, trainy, testX, testy"
      ],
      "execution_count": 0,
      "outputs": []
    },
    {
      "cell_type": "code",
      "metadata": {
        "id": "d6Ryf_I1ifJp",
        "colab_type": "code",
        "colab": {}
      },
      "source": [
        "def linear_function():\n",
        "    X = tf.constant(np.random.randn(3,1),name=\"X\")\n",
        "    W = tf.constant(np.random.randn(4,3),name=\"W\")\n",
        "    b = tf.constant(np.random.randn(4,1),name=\"b\")\n",
        "    Y = tf.add(tf.matmul(W,X),b)\n",
        "    \n",
        "    tf.compat.v1.disable_eager_execution() \n",
        "    sess = tf.compat.v1.Session()\n",
        "    result = sess.run(Y)\n",
        "    \n",
        "    sess.close()\n",
        "    \n",
        "    return result"
      ],
      "execution_count": 0,
      "outputs": []
    },
    {
      "cell_type": "code",
      "metadata": {
        "id": "o5CkkOW8iggK",
        "colab_type": "code",
        "colab": {}
      },
      "source": [
        "trainX, trainy, testX, testy = loaddataset()"
      ],
      "execution_count": 0,
      "outputs": []
    },
    {
      "cell_type": "code",
      "metadata": {
        "id": "u0l1_cSZig56",
        "colab_type": "code",
        "colab": {}
      },
      "source": [
        "def sigmoid(z):\n",
        "    x = tf.compat.v1.placeholder(tf.float32, name=\"x\")\n",
        "    \n",
        "    sigmoid = tf.sigmoid(x)\n",
        "    \n",
        "    with tf.compat.v1.Session() as sess:\n",
        "        result= sess.run(sigmoid, feed_dict = {x:z})\n",
        "    \n",
        "    return result"
      ],
      "execution_count": 0,
      "outputs": []
    },
    {
      "cell_type": "code",
      "metadata": {
        "id": "kHl2sCVfig9H",
        "colab_type": "code",
        "colab": {}
      },
      "source": [
        "def cost(logits, labels):\n",
        "    z = tf.compat.v1.placeholder(tf.float32, name=\"z\")\n",
        "    y = tf.compat.v1.placeholder(tf.float32, name=\"y\")\n",
        "    \n",
        "    cost = tf.nn.sigmoid_cross_entropy_with_logits(logits = z, labels = y)\n",
        "    \n",
        "    with tf.compat.v1.Session() as sess:\n",
        "        cost = sess.run(cost, feed_dict = {z:logits, y:labels})\n",
        "\n",
        "    return cost"
      ],
      "execution_count": 0,
      "outputs": []
    },
    {
      "cell_type": "code",
      "metadata": {
        "id": "9IaIUVEhio4e",
        "colab_type": "code",
        "colab": {}
      },
      "source": [
        "import h5py\n",
        "import math"
      ],
      "execution_count": 0,
      "outputs": []
    },
    {
      "cell_type": "code",
      "metadata": {
        "id": "pGABR3I_io8_",
        "colab_type": "code",
        "colab": {}
      },
      "source": [
        "def random_mini_batches(X, Y, mini_batch_size = 262144, seed = 0):\n",
        "    \"\"\"\n",
        "    Creates a list of random minibatches from (X, Y)\n",
        "    \n",
        "    Arguments:\n",
        "    X -- input data, of shape (input size, number of examples)\n",
        "    Y -- true \"label\" vector (containing 0 if cat, 1 if non-cat), of shape (1, number of examples)\n",
        "    mini_batch_size - size of the mini-batches, integer\n",
        "    seed -- this is only for the purpose of grading, so that you're \"random minibatches are the same as ours.\n",
        "    \n",
        "    Returns:\n",
        "    mini_batches -- list of synchronous (mini_batch_X, mini_batch_Y)\n",
        "    \"\"\"\n",
        "    \n",
        "    m = X.shape[1]                  # number of training examples\n",
        "    mini_batches = []\n",
        "    np.random.seed(seed)\n",
        "    \n",
        "    # Step 1: Shuffle (X, Y)\n",
        "    permutation = list(np.random.permutation(m))\n",
        "    shuffled_X = X[:, permutation]\n",
        "    shuffled_Y = Y[:, permutation].reshape((Y.shape[0],m))\n",
        "\n",
        "    # Step 2: Partition (shuffled_X, shuffled_Y). Minus the end case.\n",
        "    num_complete_minibatches = math.floor(m/mini_batch_size) # number of mini batches of size mini_batch_size in your partitionning\n",
        "    for k in range(0, num_complete_minibatches):\n",
        "        mini_batch_X = shuffled_X[:, k * mini_batch_size : k * mini_batch_size + mini_batch_size]\n",
        "        mini_batch_Y = shuffled_Y[:, k * mini_batch_size : k * mini_batch_size + mini_batch_size]\n",
        "        mini_batch = (mini_batch_X, mini_batch_Y)\n",
        "        mini_batches.append(mini_batch)\n",
        "    \n",
        "    # Handling the end case (last mini-batch < mini_batch_size)\n",
        "    if m % mini_batch_size != 0:\n",
        "        mini_batch_X = shuffled_X[:, num_complete_minibatches * mini_batch_size : m]\n",
        "        mini_batch_Y = shuffled_Y[:, num_complete_minibatches * mini_batch_size : m]\n",
        "        mini_batch = (mini_batch_X, mini_batch_Y)\n",
        "        mini_batches.append(mini_batch)\n",
        "    \n",
        "    return mini_batches\n",
        "\n",
        "def convert_to_one_hot(Y, C):\n",
        "    Y = np.eye(C)[Y.reshape(-1)].T\n",
        "    return Y\n",
        "\n",
        "\n",
        "def predict(X, parameters):\n",
        "    \n",
        "    W1 = tf.convert_to_tensor(parameters[\"W1\"])\n",
        "    b1 = tf.convert_to_tensor(parameters[\"b1\"])\n",
        "    W2 = tf.convert_to_tensor(parameters[\"W2\"])\n",
        "    b2 = tf.convert_to_tensor(parameters[\"b2\"])\n",
        "    W3 = tf.convert_to_tensor(parameters[\"W3\"])\n",
        "    b3 = tf.convert_to_tensor(parameters[\"b3\"])\n",
        "    \n",
        "    params = {\"W1\": W1,\n",
        "              \"b1\": b1,\n",
        "              \"W2\": W2,\n",
        "              \"b2\": b2,\n",
        "              \"W3\": W3,\n",
        "              \"b3\": b3}\n",
        "    \n",
        "    x = tf.compat.v1.placeholder(\"float\", [784, 1])\n",
        "    \n",
        "    z3 = forward_propagation_for_predict(x, params)\n",
        "    p = tf.argmax(z3)\n",
        "    \n",
        "    sess = tf.compat.v1.Session()\n",
        "    prediction = sess.run(p, feed_dict = {x: X})\n",
        "        \n",
        "    return prediction\n",
        "\n",
        "def forward_propagation_for_predict(X, parameters):\n",
        "    \"\"\"\n",
        "    Implements the forward propagation for the model: LINEAR -> RELU -> LINEAR -> RELU -> LINEAR -> SOFTMAX\n",
        "    \n",
        "    Arguments:\n",
        "    X -- input dataset placeholder, of shape (input size, number of examples)\n",
        "    parameters -- python dictionary containing your parameters \"W1\", \"b1\", \"W2\", \"b2\", \"W3\", \"b3\"\n",
        "                  the shapes are given in initialize_parameters\n",
        "\n",
        "    Returns:\n",
        "    Z3 -- the output of the last LINEAR unit\n",
        "    \"\"\"\n",
        "    \n",
        "    # Retrieve the parameters from the dictionary \"parameters\" \n",
        "    W1 = parameters['W1']\n",
        "    b1 = parameters['b1']\n",
        "    W2 = parameters['W2']\n",
        "    b2 = parameters['b2']\n",
        "    W3 = parameters['W3']\n",
        "    b3 = parameters['b3'] \n",
        "                                                           # Numpy Equivalents:\n",
        "    Z1 = tf.add(tf.matmul(W1, X), b1)                      # Z1 = np.dot(W1, X) + b1\n",
        "    A1 = tf.nn.relu(Z1)                                    # A1 = relu(Z1)\n",
        "    Z2 = tf.add(tf.matmul(W2, A1), b2)                     # Z2 = np.dot(W2, a1) + b2\n",
        "    A2 = tf.nn.relu(Z2)                                    # A2 = relu(Z2)\n",
        "    Z3 = tf.add(tf.matmul(W3, A2), b3)                     # Z3 = np.dot(W3,Z2) + b3\n",
        "    \n",
        "    return Z3\n",
        "    "
      ],
      "execution_count": 0,
      "outputs": []
    },
    {
      "cell_type": "code",
      "metadata": {
        "id": "153BRijGipA7",
        "colab_type": "code",
        "colab": {
          "base_uri": "https://localhost:8080/",
          "height": 54
        },
        "outputId": "486efd08-4eb4-4f0e-a69c-a6c8571b7547"
      },
      "source": [
        "def one_hot_matrix(labels, C):\n",
        "    C = tf.constant(C, name=\"C\")\n",
        "    \n",
        "    one_hot_matrix = tf.one_hot(labels,C,axis=0)\n",
        " \n",
        "    sess = tf.compat.v1.Session()\n",
        "    one_hot = sess.run(one_hot_matrix)\n",
        "    \n",
        "    sess.close()\n",
        "    \n",
        "    return one_hot\n",
        "\n",
        "\"\"\"test: one_hot_matrix(labels, C)\n",
        "labels = np.array([1,2,3,0,2,1])\n",
        "one_hot = one_hot_matrix(labels, C = 4)\n",
        "print (\"one_hot = \\n\" + str(one_hot))\n",
        "\n",
        "output:\n",
        "    one_hot = \n",
        "    [[ 0.  0.  0.  1.  0.  0.]\n",
        "     [ 1.  0.  0.  0.  0.  1.]\n",
        "     [ 0.  1.  0.  0.  1.  0.]\n",
        "     [ 0.  0.  1.  0.  0.  0.]]\n",
        "\"\"\"\n"
      ],
      "execution_count": 12,
      "outputs": [
        {
          "output_type": "execute_result",
          "data": {
            "text/plain": [
              "'test: one_hot_matrix(labels, C)\\nlabels = np.array([1,2,3,0,2,1])\\none_hot = one_hot_matrix(labels, C = 4)\\nprint (\"one_hot = \\n\" + str(one_hot))\\n\\noutput:\\n    one_hot = \\n    [[ 0.  0.  0.  1.  0.  0.]\\n     [ 1.  0.  0.  0.  0.  1.]\\n     [ 0.  1.  0.  0.  1.  0.]\\n     [ 0.  0.  1.  0.  0.  0.]]\\n'"
            ]
          },
          "metadata": {
            "tags": []
          },
          "execution_count": 12
        }
      ]
    },
    {
      "cell_type": "code",
      "metadata": {
        "id": "RdwASgFlipEI",
        "colab_type": "code",
        "colab": {
          "base_uri": "https://localhost:8080/",
          "height": 54
        },
        "outputId": "5297a7f1-12c8-40cf-c8c3-8ea85a3e3c14"
      },
      "source": [
        "def ones(shape):\n",
        "    ones = tf.ones(shape,name=\"ones\")\n",
        "    sess = tf.compat.v1.Session()\n",
        "    ones = sess.run(ones)\n",
        "    \n",
        "    sess.close()\n",
        "    \n",
        "    return ones\n",
        "\n",
        "\"\"\"test: ones(shape)\n",
        "print (\"ones = \" + str(ones([3])))\n",
        "\n",
        "output:\n",
        "    ones = [ 1.  1.  1.]\n",
        "\"\"\"\n"
      ],
      "execution_count": 13,
      "outputs": [
        {
          "output_type": "execute_result",
          "data": {
            "text/plain": [
              "'test: ones(shape)\\nprint (\"ones = \" + str(ones([3])))\\n\\noutput:\\n    ones = [ 1.  1.  1.]\\n'"
            ]
          },
          "metadata": {
            "tags": []
          },
          "execution_count": 13
        }
      ]
    },
    {
      "cell_type": "code",
      "metadata": {
        "id": "IU1fI-0nipKk",
        "colab_type": "code",
        "colab": {
          "base_uri": "https://localhost:8080/",
          "height": 136
        },
        "outputId": "deedb872-0810-4e0f-c418-ef67618bee6c"
      },
      "source": [
        "print(testX.shape[0])\n",
        "X_train_flatten = trainX.reshape(trainX.shape[0], -1).T\n",
        "X_test_flatten = testX.reshape(testX.shape[0],-1).T\n",
        "#Normalize\n",
        "X_train = X_train_flatten/255.\n",
        "X_test = X_test_flatten/255.\n",
        "#Convert training and test labels to one hot matrices\n",
        "Y_train = convert_to_one_hot(trainy, 10)  \n",
        "Y_test = convert_to_one_hot(testy, 10)\n",
        "  \n",
        "print (\"number of training examples = \" + str(X_train.shape[1]))\n",
        "print (\"number of test examples = \" + str(X_test.shape[1]))\n",
        "print (\"X_train shape: \" + str(X_train.shape))\n",
        "print (\"Y_train shape: \" + str(Y_train.shape))\n",
        "print (\"X_test shape: \" + str(X_test.shape))\n",
        "print (\"Y_test shape: \" + str(Y_test.shape))\n"
      ],
      "execution_count": 15,
      "outputs": [
        {
          "output_type": "stream",
          "text": [
            "10000\n",
            "number of training examples = 60000\n",
            "number of test examples = 10000\n",
            "X_train shape: (784, 60000)\n",
            "Y_train shape: (10, 60000)\n",
            "X_test shape: (784, 10000)\n",
            "Y_test shape: (10, 10000)\n"
          ],
          "name": "stdout"
        }
      ]
    },
    {
      "cell_type": "code",
      "metadata": {
        "id": "w1s85U5eipM5",
        "colab_type": "code",
        "colab": {
          "base_uri": "https://localhost:8080/",
          "height": 54
        },
        "outputId": "6bf110f0-861f-41ff-b5c4-47ba060b6c09"
      },
      "source": [
        "def create_placeholders(n_x, n_y):\n",
        "    tf.compat.v1.disable_eager_execution()\n",
        "    X = tf.compat.v1.placeholder(tf.float32,shape=(n_x,None),name=\"X\")\n",
        "    Y = tf.compat.v1.placeholder(tf.float32,shape=(n_y,None),name=\"Y\")\n",
        "    \n",
        "    return X,Y\n",
        "\n",
        "\"\"\"test: create_placeholder(n_x,n_y)\n",
        "X, Y = create_placeholders(12288, 6)\n",
        "print (\"X = \" + str(X))\n",
        "print (\"Y = \" + str(Y))\n",
        "\n",
        "output:\n",
        "    X = Tensor(\"X_3:0\", shape=(12288, None), dtype=float32)\n",
        "    Y = Tensor(\"Y_1:0\", shape=(6, None), dtype=float32)\n",
        "\"\"\""
      ],
      "execution_count": 16,
      "outputs": [
        {
          "output_type": "execute_result",
          "data": {
            "text/plain": [
              "'test: create_placeholder(n_x,n_y)\\nX, Y = create_placeholders(12288, 6)\\nprint (\"X = \" + str(X))\\nprint (\"Y = \" + str(Y))\\n\\noutput:\\n    X = Tensor(\"X_3:0\", shape=(12288, None), dtype=float32)\\n    Y = Tensor(\"Y_1:0\", shape=(6, None), dtype=float32)\\n'"
            ]
          },
          "metadata": {
            "tags": []
          },
          "execution_count": 16
        }
      ]
    },
    {
      "cell_type": "code",
      "metadata": {
        "id": "pbgCHM-BjKIO",
        "colab_type": "code",
        "colab": {
          "base_uri": "https://localhost:8080/",
          "height": 54
        },
        "outputId": "562d5715-92d9-443a-d2f9-175bdbb47a55"
      },
      "source": [
        "def initialize_parameters():\n",
        "    W1 = tf.compat.v1.get_variable(\"W1\",[25,784],initializer = tf.keras.initializers.GlorotNormal(seed=1))\n",
        "    b1 = tf.compat.v1.get_variable(\"b1\",[25,1], initializer= tf.keras.initializers.Zeros())\n",
        "    W2 = tf.compat.v1.get_variable(\"W2\",[12,25],initializer = tf.keras.initializers.GlorotNormal(seed=1))\n",
        "    b2 = tf.compat.v1.get_variable(\"b2\",[12,1], initializer= tf.keras.initializers.Zeros())\n",
        "    W3 = tf.compat.v1.get_variable(\"W3\",[10,12],initializer = tf.keras.initializers.GlorotNormal(seed=1))\n",
        "    b3 = tf.compat.v1.get_variable(\"b3\",[10,1], initializer= tf.keras.initializers.Zeros())\n",
        "    \n",
        "    parameters = {\"W1\": W1,\n",
        "                  \"b1\": b1,\n",
        "                  \"W2\": W2,\n",
        "                  \"b2\": b2,\n",
        "                  \"W3\": W3,\n",
        "                  \"b3\": b3}\n",
        "    \n",
        "    return parameters\n",
        "\n",
        "\"\"\"test: initialize_parameters()\n",
        "tf.compat.v1.reset_default_graph()\n",
        "with tf.compat.v1.Session() as sess:\n",
        "    parameters = initialize_parameters()\n",
        "    print(\"W1 = \" + str(parameters[\"W1\"]))\n",
        "    print(\"b1 = \" + str(parameters[\"b1\"]))\n",
        "    print(\"W2 = \" + str(parameters[\"W2\"]))\n",
        "    print(\"b2 = \" + str(parameters[\"b2\"]))\n",
        "    \n",
        "output: \n",
        "    W1 = <tf.Variable 'W1:0' shape=(25, 784) dtype=float32>\n",
        "    b1 = <tf.Variable 'b1:0' shape=(25, 1) dtype=float32>\n",
        "    W2 = <tf.Variable 'W2:0' shape=(12, 25) dtype=float32>\n",
        "    b2 = <tf.Variable 'b2:0' shape=(12, 1) dtype=float32>\n",
        "\"\"\""
      ],
      "execution_count": 17,
      "outputs": [
        {
          "output_type": "execute_result",
          "data": {
            "text/plain": [
              "'test: initialize_parameters()\\ntf.compat.v1.reset_default_graph()\\nwith tf.compat.v1.Session() as sess:\\n    parameters = initialize_parameters()\\n    print(\"W1 = \" + str(parameters[\"W1\"]))\\n    print(\"b1 = \" + str(parameters[\"b1\"]))\\n    print(\"W2 = \" + str(parameters[\"W2\"]))\\n    print(\"b2 = \" + str(parameters[\"b2\"]))\\n    \\noutput: \\n    W1 = <tf.Variable \\'W1:0\\' shape=(25, 784) dtype=float32>\\n    b1 = <tf.Variable \\'b1:0\\' shape=(25, 1) dtype=float32>\\n    W2 = <tf.Variable \\'W2:0\\' shape=(12, 25) dtype=float32>\\n    b2 = <tf.Variable \\'b2:0\\' shape=(12, 1) dtype=float32>\\n'"
            ]
          },
          "metadata": {
            "tags": []
          },
          "execution_count": 17
        }
      ]
    },
    {
      "cell_type": "code",
      "metadata": {
        "id": "UkOhIU7gjKLF",
        "colab_type": "code",
        "colab": {
          "base_uri": "https://localhost:8080/",
          "height": 54
        },
        "outputId": "dff34315-0469-4b4e-dfae-938eb3edd268"
      },
      "source": [
        "def forward_propagation(X, parameters):\n",
        "    W1 = parameters['W1']\n",
        "    b1 = parameters['b1']\n",
        "    W2 = parameters['W2']\n",
        "    b2 = parameters['b2']\n",
        "    W3 = parameters['W3']\n",
        "    b3 = parameters['b3']\n",
        "    \n",
        "    Z1 = tf.add(tf.matmul(W1,X),b1)                                              # Z1 = np.dot(W1, X) + b1\n",
        "    A1 = tf.nn.relu(Z1)                                              # A1 = relu(Z1)\n",
        "    Z2 = tf.add(tf.matmul(W2,A1),b2)                                              # Z2 = np.dot(W2, A1) + b2\n",
        "    A2 = tf.nn.relu(Z2)                                              # A2 = relu(Z2)\n",
        "    Z3 = tf.add(tf.matmul(W3,A2),b3)     \n",
        "    \n",
        "    return Z3\n",
        "\n",
        "\"\"\"forward_propagation(X, parameters)\n",
        "tf.compat.v1.reset_default_graph()\n",
        "\n",
        "with tf.compat.v1.Session() as sess:\n",
        "    X, Y = create_placeholders(784, 10)\n",
        "    parameters = initialize_parameters()\n",
        "    Z3 = forward_propagation(X, parameters)\n",
        "    print(\"Z3 = \" + str(Z3))\n",
        "    \n",
        "output:\n",
        "    Z3 = Tensor(\"Add_2:0\", shape=(10, None), dtype=float32)\n",
        "\"\"\""
      ],
      "execution_count": 18,
      "outputs": [
        {
          "output_type": "execute_result",
          "data": {
            "text/plain": [
              "'forward_propagation(X, parameters)\\ntf.compat.v1.reset_default_graph()\\n\\nwith tf.compat.v1.Session() as sess:\\n    X, Y = create_placeholders(784, 10)\\n    parameters = initialize_parameters()\\n    Z3 = forward_propagation(X, parameters)\\n    print(\"Z3 = \" + str(Z3))\\n    \\noutput:\\n    Z3 = Tensor(\"Add_2:0\", shape=(10, None), dtype=float32)\\n'"
            ]
          },
          "metadata": {
            "tags": []
          },
          "execution_count": 18
        }
      ]
    },
    {
      "cell_type": "code",
      "metadata": {
        "id": "36e-JT-1jKOL",
        "colab_type": "code",
        "colab": {
          "base_uri": "https://localhost:8080/",
          "height": 54
        },
        "outputId": "718d94f9-0b88-4a48-ed2e-acbd6be7033a"
      },
      "source": [
        "def compute_cost(Z3, Y):\n",
        "    logits = tf.transpose(Z3)\n",
        "    labels = tf.transpose(Y)\n",
        "    \n",
        "    cost = tf.reduce_mean(tf.nn.softmax_cross_entropy_with_logits(logits=logits, labels=labels))\n",
        "    \n",
        "    return cost\n",
        "\n",
        "\"\"\"test: compute_cost(Z3,Y)\n",
        "tf.compat.v1.reset_default_graph()\n",
        "\n",
        "with tf.compat.v1.Session() as sess:\n",
        "    X, Y = create_placeholders(784, 10)\n",
        "    parameters = initialize_parameters()\n",
        "    Z3 = forward_propagation(X, parameters)\n",
        "    cost = compute_cost(Z3, Y)\n",
        "    print(\"cost = \" + str(cost))\n",
        "    \n",
        "output:\n",
        "    cost = Tensor(\"Mean:0\", shape=(), dtype=float32)\n",
        "\"\"\""
      ],
      "execution_count": 19,
      "outputs": [
        {
          "output_type": "execute_result",
          "data": {
            "text/plain": [
              "'test: compute_cost(Z3,Y)\\ntf.compat.v1.reset_default_graph()\\n\\nwith tf.compat.v1.Session() as sess:\\n    X, Y = create_placeholders(784, 10)\\n    parameters = initialize_parameters()\\n    Z3 = forward_propagation(X, parameters)\\n    cost = compute_cost(Z3, Y)\\n    print(\"cost = \" + str(cost))\\n    \\noutput:\\n    cost = Tensor(\"Mean:0\", shape=(), dtype=float32)\\n'"
            ]
          },
          "metadata": {
            "tags": []
          },
          "execution_count": 19
        }
      ]
    },
    {
      "cell_type": "code",
      "metadata": {
        "id": "HzL0IpiozKvA",
        "colab_type": "code",
        "colab": {}
      },
      "source": [
        "def model(X_train, Y_train, X_test, Y_test, learning_rate=0.001, num_epochs= 1500, minibatch_size=262144, print_cost=True):\n",
        "    tf.compat.v1.reset_default_graph() \n",
        "    (n_x,m) = X_train.shape\n",
        "    n_y = Y_train.shape[0]\n",
        "    costs=[]\n",
        "    \n",
        "    X,Y = create_placeholders(n_x,n_y)\n",
        "    \n",
        "    parameters = initialize_parameters()\n",
        "    \n",
        "    Z3 = forward_propagation(X,parameters)\n",
        "    \n",
        "    cost = compute_cost(Z3,Y)\n",
        "    \n",
        "    optimizer = tf.compat.v1.train.AdamOptimizer(learning_rate=learning_rate).minimize(cost)\n",
        "    \n",
        "    init = tf.compat.v1.global_variables_initializer()\n",
        "    \n",
        "    with tf.compat.v1.Session() as sess:\n",
        "        sess.run(init)\n",
        "        \n",
        "        for epoch in range(num_epochs):\n",
        "            epoch_cost = 0\n",
        "            num_minibatches = int(m/minibatch_size)\n",
        "            minibatches = random_mini_batches(X_train, Y_train, minibatch_size)\n",
        "            \n",
        "            for minibatch in minibatches:\n",
        "                (minibatch_X,minibatch_Y) = minibatch\n",
        "                \n",
        "                _ , minibatch_cost = sess.run([optimizer,cost], feed_dict={X:minibatch_X,Y:minibatch_Y})\n",
        "                \n",
        "                epoch_cost += minibatch_cost / minibatch_size\n",
        "                #print(epoch)\n",
        "            if print_cost == True and epoch % 100 == 0:\n",
        "                print (\"Cost after epoch %i: %f\" % (epoch, epoch_cost))\n",
        "            if print_cost == True and epoch % 5 == 0:\n",
        "                costs.append(epoch_cost)\n",
        "                \n",
        "        # plot the cost\n",
        "        plt.plot(np.squeeze(costs))\n",
        "        plt.ylabel('cost')\n",
        "        plt.xlabel('iterations (per fives)')\n",
        "        plt.title(\"Learning rate =\" + str(learning_rate))\n",
        "        plt.show()\n",
        "\n",
        "        # lets save the parameters in a variable\n",
        "        parameters = sess.run(parameters)\n",
        "        print (\"Parameters have been trained!\")\n",
        "\n",
        "        # Calculate the correct predictions\n",
        "        correct_prediction = tf.equal(tf.argmax(Z3), tf.argmax(Y))\n",
        "\n",
        "        # Calculate accuracy on the test set\n",
        "        accuracy = tf.reduce_mean(tf.cast(correct_prediction, \"float\"))\n",
        "\n",
        "        print (\"Train Accuracy:\", accuracy.eval({X: X_train, Y: Y_train}))\n",
        "        print (\"Test Accuracy:\", accuracy.eval({X: X_test, Y: Y_test}))\n",
        "        \n",
        "        return parameters\n",
        "    \n"
      ],
      "execution_count": 0,
      "outputs": []
    },
    {
      "cell_type": "code",
      "metadata": {
        "id": "ohVIjphuipPw",
        "colab_type": "code",
        "colab": {
          "base_uri": "https://localhost:8080/",
          "height": 672
        },
        "outputId": "889b933e-2c82-4f8d-fd69-d839e72bf396"
      },
      "source": [
        "parameters = model(X_train, Y_train, X_test, Y_test)"
      ],
      "execution_count": 21,
      "outputs": [
        {
          "output_type": "stream",
          "text": [
            "WARNING:tensorflow:From /usr/local/lib/python3.6/dist-packages/tensorflow/python/ops/resource_variable_ops.py:1666: calling BaseResourceVariable.__init__ (from tensorflow.python.ops.resource_variable_ops) with constraint is deprecated and will be removed in a future version.\n",
            "Instructions for updating:\n",
            "If using Keras pass *_constraint arguments to layers.\n",
            "Cost after epoch 0: 0.000009\n",
            "Cost after epoch 100: 0.000002\n",
            "Cost after epoch 200: 0.000001\n",
            "Cost after epoch 300: 0.000001\n",
            "Cost after epoch 400: 0.000001\n",
            "Cost after epoch 500: 0.000001\n",
            "Cost after epoch 600: 0.000001\n",
            "Cost after epoch 700: 0.000000\n",
            "Cost after epoch 800: 0.000000\n",
            "Cost after epoch 900: 0.000000\n",
            "Cost after epoch 1000: 0.000000\n",
            "Cost after epoch 1100: 0.000000\n",
            "Cost after epoch 1200: 0.000000\n",
            "Cost after epoch 1300: 0.000000\n",
            "Cost after epoch 1400: 0.000000\n"
          ],
          "name": "stdout"
        },
        {
          "output_type": "display_data",
          "data": {
            "image/png": "[encoded data removed]",
            "text/plain": [
              "<Figure size 432x288 with 1 Axes>"
            ]
          },
          "metadata": {
            "tags": [],
            "needs_background": "light"
          }
        },
        {
          "output_type": "stream",
          "text": [
            "Parameters have been trained!\n",
            "Train Accuracy: 0.9865\n",
            "Test Accuracy: 0.9593\n"
          ],
          "name": "stdout"
        }
      ]
    },
    {
      "cell_type": "markdown",
      "metadata": {
        "id": "J8ZXrN5xmA8R",
        "colab_type": "text"
      },
      "source": [
        ""
      ]
    }
  ]
}